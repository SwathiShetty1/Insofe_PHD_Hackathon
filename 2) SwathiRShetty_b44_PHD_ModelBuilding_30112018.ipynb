{
 "cells": [
  {
   "cell_type": "code",
   "execution_count": 31,
   "metadata": {},
   "outputs": [],
   "source": [
    "import numpy as np\n",
    "import matplotlib.pyplot as plt\n",
    "import pandas as pd\n",
    "import os\n",
    "import time\n",
    "\n",
    "import re  \n",
    "import nltk\n",
    "\n",
    "from nltk.corpus import stopwords\n",
    "from nltk.corpus import RegexpTokenizer as regextoken\n",
    "from nltk.stem.porter import PorterStemmer\n",
    "from nltk.stem import WordNetLemmatizer\n",
    "from nltk import pos_tag\n",
    "import pickle\n",
    "\n",
    "from sklearn.cluster import KMeans\n",
    "from sklearn.metrics import adjusted_rand_score\n",
    "\n",
    "from sklearn.decomposition import PCA\n",
    "from __future__ import print_function\n",
    "\n",
    "from sklearn.metrics import confusion_matrix\n",
    "from sklearn.model_selection import train_test_split\n",
    "from sklearn.metrics import accuracy_score\n",
    "\n",
    "import xgboost as xgb\n"
   ]
  },
  {
   "cell_type": "code",
   "execution_count": 32,
   "metadata": {},
   "outputs": [],
   "source": [
    "#Import the saved train data\n",
    "FnllBanklvldata_Tgt = pd.read_pickle('FnllBanklvldata_Tgt_Saved.pkl')\n",
    "#FnllBanklvldata_Tgt.to_csv('Banktrain.csv')"
   ]
  },
  {
   "cell_type": "code",
   "execution_count": 33,
   "metadata": {},
   "outputs": [
    {
     "data": {
      "text/html": [
       "<div>\n",
       "<style scoped>\n",
       "    .dataframe tbody tr th:only-of-type {\n",
       "        vertical-align: middle;\n",
       "    }\n",
       "\n",
       "    .dataframe tbody tr th {\n",
       "        vertical-align: top;\n",
       "    }\n",
       "\n",
       "    .dataframe thead th {\n",
       "        text-align: right;\n",
       "    }\n",
       "</style>\n",
       "<table border=\"1\" class=\"dataframe\">\n",
       "  <thead>\n",
       "    <tr style=\"text-align: right;\">\n",
       "      <th></th>\n",
       "      <th>BankGrade</th>\n",
       "      <th>Count</th>\n",
       "    </tr>\n",
       "  </thead>\n",
       "  <tbody>\n",
       "    <tr>\n",
       "      <th>0</th>\n",
       "      <td>deficient</td>\n",
       "      <td>18</td>\n",
       "    </tr>\n",
       "    <tr>\n",
       "      <th>1</th>\n",
       "      <td>outstanding</td>\n",
       "      <td>14</td>\n",
       "    </tr>\n",
       "    <tr>\n",
       "      <th>2</th>\n",
       "      <td>satisfactory</td>\n",
       "      <td>54</td>\n",
       "    </tr>\n",
       "  </tbody>\n",
       "</table>\n",
       "</div>"
      ],
      "text/plain": [
       "      BankGrade  Count\n",
       "0     deficient     18\n",
       "1   outstanding     14\n",
       "2  satisfactory     54"
      ]
     },
     "execution_count": 33,
     "metadata": {},
     "output_type": "execute_result"
    }
   ],
   "source": [
    "#Distribution of bank grade\n",
    "Bankgrade = FnllBanklvldata_Tgt[['BankGrade','BankID']].groupby(['BankGrade'])['BankID'].nunique().reset_index(name='Count')\n",
    "Bankgrade"
   ]
  },
  {
   "cell_type": "code",
   "execution_count": 34,
   "metadata": {},
   "outputs": [],
   "source": [
    "#Import the saved test data\n",
    "TstFnllBanklvldata_Tgt = pd.read_pickle('TestFnllBanklvldata_Tgt_Saved.pkl')\n",
    "#TstFnllBanklvldata_Tgt.to_csv('Banktest.csv')"
   ]
  },
  {
   "cell_type": "code",
   "execution_count": 1393,
   "metadata": {},
   "outputs": [],
   "source": [
    "#dropc = ['ClosExpl_pct','ClosExplDispCom_pct','MortgageBroad_pct','MediandaystoResolve','Lessthan1Month_pct','onetotwoMonths_pct','BankID','State53_pct','twotothreeMonths_pct','State14_pct','Communicn_pct','purchaser_pct','State47_pct','threeormoreMonths_pct']\n",
    "#Modeldata=FnllBanklvldata_Tgt.drop(dropc, axis=1)\n",
    "#Testdata=TstFnllBanklvldata_Tgt.drop(dropc, axis=1)"
   ]
  },
  {
   "cell_type": "code",
   "execution_count": 1379,
   "metadata": {},
   "outputs": [],
   "source": [
    "#without PCA -> these set of independent variables are not correlated to each other\n",
    "#Modeldata1 = Modeldata[['BankGrade','AvgdaystoResolve','State43_pct','LateFeeIntCharg_pct','TeftFraudThreat_pct','ClosExplDisp_pct']]\n",
    "#Testdata1 = Testdata[['AvgdaystoResolve','State43_pct','LateFeeIntCharg_pct','TeftFraudThreat_pct','ClosExplDisp_pct']]"
   ]
  },
  {
   "cell_type": "code",
   "execution_count": null,
   "metadata": {},
   "outputs": [],
   "source": [
    "#use for without PCA\n",
    "#X = Modeldata1.iloc[:, [1,2,3,4,5]].values\n",
    "#y = Modeldata1.iloc[:, 0].values\n",
    "#Test=Testdata1.iloc[:, [0,1,2,3,4]].values"
   ]
  },
  {
   "cell_type": "code",
   "execution_count": 35,
   "metadata": {},
   "outputs": [
    {
     "data": {
      "text/html": [
       "<div>\n",
       "<style scoped>\n",
       "    .dataframe tbody tr th:only-of-type {\n",
       "        vertical-align: middle;\n",
       "    }\n",
       "\n",
       "    .dataframe tbody tr th {\n",
       "        vertical-align: top;\n",
       "    }\n",
       "\n",
       "    .dataframe thead th {\n",
       "        text-align: right;\n",
       "    }\n",
       "</style>\n",
       "<table border=\"1\" class=\"dataframe\">\n",
       "  <thead>\n",
       "    <tr style=\"text-align: right;\">\n",
       "      <th></th>\n",
       "      <th>AvgdaystoResolve</th>\n",
       "      <th>State43_pct</th>\n",
       "      <th>LateFeeIntCharg_pct</th>\n",
       "      <th>CloseCancel_pct</th>\n",
       "      <th>MktOfferRwd_pct</th>\n",
       "      <th>TeftFraudThreat_pct</th>\n",
       "      <th>CreditCard_pct</th>\n",
       "      <th>UFDP_pct</th>\n",
       "      <th>Payments_pct</th>\n",
       "      <th>ClosExplDisp_pct</th>\n",
       "    </tr>\n",
       "  </thead>\n",
       "  <tbody>\n",
       "    <tr>\n",
       "      <th>0</th>\n",
       "      <td>17.49343</td>\n",
       "      <td>12.16</td>\n",
       "      <td>26.08</td>\n",
       "      <td>36.93</td>\n",
       "      <td>44.42</td>\n",
       "      <td>19.65</td>\n",
       "      <td>99.47</td>\n",
       "      <td>64.45</td>\n",
       "      <td>11.83</td>\n",
       "      <td>27.27</td>\n",
       "    </tr>\n",
       "  </tbody>\n",
       "</table>\n",
       "</div>"
      ],
      "text/plain": [
       "   AvgdaystoResolve  State43_pct  LateFeeIntCharg_pct  CloseCancel_pct  \\\n",
       "0          17.49343        12.16                26.08            36.93   \n",
       "\n",
       "   MktOfferRwd_pct  TeftFraudThreat_pct  CreditCard_pct  UFDP_pct  \\\n",
       "0            44.42                19.65           99.47     64.45   \n",
       "\n",
       "   Payments_pct  ClosExplDisp_pct  \n",
       "0         11.83             27.27  "
      ]
     },
     "execution_count": 35,
     "metadata": {},
     "output_type": "execute_result"
    }
   ],
   "source": [
    "#for PCA\n",
    "Modeldata1 = FnllBanklvldata_Tgt[['BankGrade','AvgdaystoResolve','State43_pct','LateFeeIntCharg_pct','CloseCancel_pct','MktOfferRwd_pct','TeftFraudThreat_pct','CreditCard_pct','UFDP_pct','Payments_pct','ClosExplDisp_pct']]\n",
    "Testdata1 = TstFnllBanklvldata_Tgt[['AvgdaystoResolve','State43_pct','LateFeeIntCharg_pct','CloseCancel_pct','MktOfferRwd_pct','TeftFraudThreat_pct','CreditCard_pct','UFDP_pct','Payments_pct','ClosExplDisp_pct']]\n",
    "Testdata1.head(1)\n"
   ]
  },
  {
   "cell_type": "code",
   "execution_count": 36,
   "metadata": {},
   "outputs": [],
   "source": [
    "#For PCA \n",
    "X = Modeldata1.iloc[:, [1,2,3,4,5,6,7,8,9,10]].values\n",
    "y = Modeldata1.iloc[:, 0].values\n",
    "Test=Testdata1.iloc[:, [0,1,2,3,4,5,6,7,8,9]].values"
   ]
  },
  {
   "cell_type": "markdown",
   "metadata": {},
   "source": [
    "## SMOTE - for class imbalance"
   ]
  },
  {
   "cell_type": "code",
   "execution_count": 37,
   "metadata": {},
   "outputs": [],
   "source": [
    "from imblearn.over_sampling import SMOTE\n",
    "smt = SMOTE()\n",
    "X, y = smt.fit_sample(X, y)"
   ]
  },
  {
   "cell_type": "code",
   "execution_count": 38,
   "metadata": {},
   "outputs": [],
   "source": [
    "# Splitting the dataset into the Training set and val set\n",
    "X_train, X_val, y_train, y_val = train_test_split(X, y, test_size = 0.2, random_state = 0)"
   ]
  },
  {
   "cell_type": "code",
   "execution_count": 1382,
   "metadata": {},
   "outputs": [],
   "source": [
    "# Feature Scaling\n",
    "from sklearn.preprocessing import StandardScaler\n",
    "sc = StandardScaler()\n",
    "\n",
    "X = sc.fit_transform(X)\n",
    "X_train = sc.fit_transform(X_train)\n",
    "X_val = sc.transform(X_val)"
   ]
  },
  {
   "cell_type": "code",
   "execution_count": 1383,
   "metadata": {},
   "outputs": [
    {
     "data": {
      "text/plain": [
       "(162, 5)"
      ]
     },
     "execution_count": 1383,
     "metadata": {},
     "output_type": "execute_result"
    }
   ],
   "source": [
    "X.shape"
   ]
  },
  {
   "cell_type": "code",
   "execution_count": 810,
   "metadata": {},
   "outputs": [],
   "source": [
    "#PCA\n",
    "from sklearn.decomposition import PCA\n",
    "    \n",
    "pca = PCA(n_components=2)\n",
    "X_train = pca.fit_transform(X_train)\n",
    "X_val = pca.transform(X_val)\n",
    "Test=pca.transform(Test)\n",
    "X = pca.fit_transform(X)\n",
    "explained_variance = pca.explained_variance_ratio_\n",
    "print(explained_variance)\n",
    "\n",
    "output variance explained by the pricipal components along with feature matrix\n",
    "print (\"Variance explained by all the principal components = \", sum(explained_variance))"
   ]
  },
  {
   "cell_type": "code",
   "execution_count": 1009,
   "metadata": {},
   "outputs": [],
   "source": [
    "#Kernel PCA\n",
    "\n",
    "#from sklearn.decomposition import KernelPCA\n",
    "\n",
    "#kpca=KernelPCA(n_components=4,kernel='rbf')\n",
    "#X_train = kpca.fit_transform(X_train)\n",
    "#X_val = kpca.transform(X_val)\n",
    "#Test=kpca.transform(Test)\n",
    "#X = kpca.fit_transform(X)"
   ]
  },
  {
   "cell_type": "markdown",
   "metadata": {},
   "source": [
    "## 1) Logistic Regression "
   ]
  },
  {
   "cell_type": "markdown",
   "metadata": {},
   "source": [
    "#### Fitting Logistic Regression to the Training set"
   ]
  },
  {
   "cell_type": "code",
   "execution_count": 1252,
   "metadata": {},
   "outputs": [],
   "source": [
    "from sklearn.linear_model import LogisticRegression\n",
    "classifier = LogisticRegression(random_state = 0,solver='lbfgs',multi_class='multinomial')"
   ]
  },
  {
   "cell_type": "code",
   "execution_count": 1253,
   "metadata": {},
   "outputs": [
    {
     "name": "stdout",
     "output_type": "stream",
     "text": [
      "[[47  0  7]\n",
      " [ 0 48  6]\n",
      " [ 9  7 38]]\n",
      "0.8209876543209876\n"
     ]
    }
   ],
   "source": [
    "#Fit on full train data\n",
    "classifier.fit(X, y)\n",
    "\n",
    "#Predicting the train set results\n",
    "y_pred = classifier.predict(X)\n",
    "\n",
    "#Making the Confusion Matrix for train\n",
    "cmtrainfull = confusion_matrix(y, y_pred)\n",
    "print(cmtrainfull)\n",
    "print(accuracy_score(y, y_pred))"
   ]
  },
  {
   "cell_type": "markdown",
   "metadata": {},
   "source": [
    "#### K fold validation"
   ]
  },
  {
   "cell_type": "code",
   "execution_count": 1249,
   "metadata": {},
   "outputs": [
    {
     "name": "stdout",
     "output_type": "stream",
     "text": [
      "K fold accuracy vector: [0.88888889 0.77777778 0.61111111 0.83333333 0.86666667 0.66666667\n",
      " 0.8        0.8        0.73333333 0.8       ]\n",
      "\n",
      "K fold accuracy mean: 0.7777777777777778\n",
      "\n",
      "K fold accuracy standard deviation: 0.0818007214191376\n"
     ]
    }
   ],
   "source": [
    "from sklearn.model_selection import cross_val_score\n",
    "accuracies=cross_val_score(estimator=classifier,X=X,y=y,cv=10)\n",
    "\n",
    "print(\"K fold accuracy vector:\", accuracies)\n",
    "print()\n",
    "print(\"K fold accuracy mean:\",accuracies.mean())\n",
    "print()\n",
    "print(\"K fold accuracy standard deviation:\",accuracies.std())\n"
   ]
  },
  {
   "cell_type": "code",
   "execution_count": 1250,
   "metadata": {},
   "outputs": [
    {
     "name": "stdout",
     "output_type": "stream",
     "text": [
      "[[41  1  3]\n",
      " [ 0 38  4]\n",
      " [ 9  5 28]]\n",
      "0.8294573643410853\n",
      "[[ 8  0  1]\n",
      " [ 0 10  2]\n",
      " [ 3  3  6]]\n",
      "0.7272727272727273\n"
     ]
    }
   ],
   "source": [
    "#Fit on 80% train data\n",
    "classifier.fit(X_train, y_train)\n",
    "\n",
    "#Predicting the train set results\n",
    "y_pred = classifier.predict(X_train)\n",
    "\n",
    "# Making the Confusion Matrix for train\n",
    "cmtrain = confusion_matrix(y_train, y_pred)\n",
    "print(cmtrain)\n",
    "print(accuracy_score(y_train, y_pred))\n",
    "\n",
    "#Predicting the val set results\n",
    "y_pred = classifier.predict(X_val)\n",
    "\n",
    "# Making the Confusion Matrix for val\n",
    "cmval = confusion_matrix(y_val, y_pred)\n",
    "print(cmval)\n",
    "print(accuracy_score(y_val, y_pred))"
   ]
  },
  {
   "cell_type": "code",
   "execution_count": 1254,
   "metadata": {},
   "outputs": [
    {
     "data": {
      "text/plain": [
       "array(['deficient', 'deficient', 'deficient', 'deficient', 'deficient',\n",
       "       'deficient', 'deficient', 'deficient', 'deficient', 'deficient',\n",
       "       'deficient', 'deficient', 'deficient', 'deficient', 'deficient',\n",
       "       'deficient', 'deficient', 'deficient', 'deficient', 'deficient',\n",
       "       'deficient', 'deficient'], dtype=object)"
      ]
     },
     "execution_count": 1254,
     "metadata": {},
     "output_type": "execute_result"
    }
   ],
   "source": [
    "# Predicting the Test set results\n",
    "predictions = classifier.predict(Test)\n",
    "predictions"
   ]
  },
  {
   "cell_type": "markdown",
   "metadata": {},
   "source": [
    "#### Export the test predictions to csv"
   ]
  },
  {
   "cell_type": "code",
   "execution_count": 1158,
   "metadata": {},
   "outputs": [],
   "source": [
    "predictions=pd.DataFrame(predictions)\n",
    "BankID=  TstFnllBanklvldata_Tgt[['BankID']]\n",
    "frames = [BankID,predictions]\n",
    "TestPredictions = pd.concat(frames,axis=1)\n",
    "TestPredictions.to_csv('TestPredictions.csv')"
   ]
  },
  {
   "cell_type": "markdown",
   "metadata": {},
   "source": [
    "## 2) Naive Bayes Model"
   ]
  },
  {
   "cell_type": "code",
   "execution_count": 1260,
   "metadata": {},
   "outputs": [
    {
     "data": {
      "text/plain": [
       "GaussianNB(priors=None)"
      ]
     },
     "execution_count": 1260,
     "metadata": {},
     "output_type": "execute_result"
    }
   ],
   "source": [
    "from sklearn.naive_bayes import GaussianNB\n",
    "\n",
    "# Fitting classifier to the Training set\n",
    "classifier=GaussianNB()\n",
    "classifier"
   ]
  },
  {
   "cell_type": "code",
   "execution_count": 1261,
   "metadata": {},
   "outputs": [
    {
     "name": "stdout",
     "output_type": "stream",
     "text": [
      "[[44  0 10]\n",
      " [ 0 49  5]\n",
      " [14 10 30]]\n",
      "0.7592592592592593\n"
     ]
    }
   ],
   "source": [
    "#Fit on full train data\n",
    "classifier.fit(X, y)\n",
    "\n",
    "#Predicting the train set results\n",
    "y_pred = classifier.predict(X)\n",
    "\n",
    "#Making the Confusion Matrix for train\n",
    "cmtrainfull = confusion_matrix(y, y_pred)\n",
    "print(cmtrainfull)\n",
    "print(accuracy_score(y, y_pred))"
   ]
  },
  {
   "cell_type": "code",
   "execution_count": 1257,
   "metadata": {},
   "outputs": [
    {
     "name": "stdout",
     "output_type": "stream",
     "text": [
      "K fold accuracy vector: [0.77777778 0.77777778 0.55555556 0.83333333 0.73333333 0.66666667\n",
      " 0.8        0.73333333 0.93333333 0.73333333]\n",
      "\n",
      "K fold accuracy mean: 0.7544444444444445\n",
      "\n",
      "K fold accuracy standard deviation: 0.09486182283773999\n"
     ]
    }
   ],
   "source": [
    "#K fold cross valdation\n",
    "\n",
    "from sklearn.model_selection import cross_val_score\n",
    "accuracies=cross_val_score(estimator=classifier,X=X,y=y,cv=10)\n",
    "\n",
    "print(\"K fold accuracy vector:\", accuracies)\n",
    "print()\n",
    "print(\"K fold accuracy mean:\",accuracies.mean())\n",
    "print()\n",
    "print(\"K fold accuracy standard deviation:\",accuracies.std())"
   ]
  },
  {
   "cell_type": "code",
   "execution_count": 1258,
   "metadata": {},
   "outputs": [
    {
     "name": "stdout",
     "output_type": "stream",
     "text": [
      "[[39  0  6]\n",
      " [ 1 38  3]\n",
      " [12  8 22]]\n",
      "0.7674418604651163\n",
      "[[ 5  0  4]\n",
      " [ 0 11  1]\n",
      " [ 3  2  7]]\n",
      "0.696969696969697\n"
     ]
    }
   ],
   "source": [
    "#Fit on 80% train data\n",
    "classifier.fit(X_train, y_train)\n",
    "\n",
    "#Predicting the train set results\n",
    "y_pred = classifier.predict(X_train)\n",
    "\n",
    "# Making the Confusion Matrix for train\n",
    "cmtrain = confusion_matrix(y_train, y_pred)\n",
    "print(cmtrain)\n",
    "print(accuracy_score(y_train, y_pred))\n",
    "\n",
    "#Predicting the val set results\n",
    "y_pred = classifier.predict(X_val)\n",
    "\n",
    "# Making the Confusion Matrix for val\n",
    "cmval = confusion_matrix(y_val, y_pred)\n",
    "print(cmval)\n",
    "print(accuracy_score(y_val, y_pred))"
   ]
  },
  {
   "cell_type": "code",
   "execution_count": 1262,
   "metadata": {},
   "outputs": [
    {
     "data": {
      "text/plain": [
       "array(['satisfactory', 'satisfactory', 'satisfactory', 'satisfactory',\n",
       "       'satisfactory', 'satisfactory', 'satisfactory', 'satisfactory',\n",
       "       'satisfactory', 'satisfactory', 'satisfactory', 'satisfactory',\n",
       "       'satisfactory', 'satisfactory', 'satisfactory', 'satisfactory',\n",
       "       'satisfactory', 'satisfactory', 'satisfactory', 'satisfactory',\n",
       "       'satisfactory', 'satisfactory'], dtype='|S12')"
      ]
     },
     "execution_count": 1262,
     "metadata": {},
     "output_type": "execute_result"
    }
   ],
   "source": [
    "# Predicting the Test set results\n",
    "predictions = classifier.predict(Test)\n",
    "predictions"
   ]
  },
  {
   "cell_type": "markdown",
   "metadata": {},
   "source": [
    "## 3) SVM Model"
   ]
  },
  {
   "cell_type": "code",
   "execution_count": 1269,
   "metadata": {},
   "outputs": [
    {
     "data": {
      "text/plain": [
       "SVC(C=1.0, cache_size=200, class_weight=None, coef0=0.0,\n",
       "  decision_function_shape='ovr', degree=3, gamma='auto', kernel='linear',\n",
       "  max_iter=-1, probability=False, random_state=0, shrinking=True,\n",
       "  tol=0.001, verbose=False)"
      ]
     },
     "execution_count": 1269,
     "metadata": {},
     "output_type": "execute_result"
    }
   ],
   "source": [
    "from sklearn.svm import SVC\n",
    "\n",
    "#We can also pecifiy the C parameter \n",
    "classifier=SVC(kernel='linear',random_state=0)\n",
    "classifier"
   ]
  },
  {
   "cell_type": "code",
   "execution_count": 1270,
   "metadata": {},
   "outputs": [],
   "source": [
    "classifier=SVC(C=1,kernel='linear',random_state=0)"
   ]
  },
  {
   "cell_type": "code",
   "execution_count": 1271,
   "metadata": {},
   "outputs": [
    {
     "name": "stdout",
     "output_type": "stream",
     "text": [
      "[[46  0  8]\n",
      " [ 0 46  8]\n",
      " [ 8  7 39]]\n",
      "0.808641975308642\n"
     ]
    }
   ],
   "source": [
    "#Fit on full train data\n",
    "classifier.fit(X, y)\n",
    "\n",
    "#Predicting the train set results\n",
    "y_pred = classifier.predict(X)\n",
    "\n",
    "#Making the Confusion Matrix for train\n",
    "cmtrainfull = confusion_matrix(y, y_pred)\n",
    "print(cmtrainfull)\n",
    "print(accuracy_score(y, y_pred))"
   ]
  },
  {
   "cell_type": "code",
   "execution_count": 1266,
   "metadata": {},
   "outputs": [
    {
     "name": "stdout",
     "output_type": "stream",
     "text": [
      "K fold accuracy vector: [0.77777778 0.72222222 0.66666667 0.88888889 0.86666667 0.66666667\n",
      " 0.8        0.73333333 0.8        0.8       ]\n",
      "\n",
      "K fold accuracy mean: 0.7722222222222221\n",
      "\n",
      "K fold accuracy standard deviation: 0.07153519379031055\n"
     ]
    }
   ],
   "source": [
    "#K fold cross valdation\n",
    "\n",
    "from sklearn.model_selection import cross_val_score\n",
    "accuracies=cross_val_score(estimator=classifier,X=X,y=y,cv=10)\n",
    "\n",
    "print(\"K fold accuracy vector:\", accuracies)\n",
    "print()\n",
    "print(\"K fold accuracy mean:\",accuracies.mean())\n",
    "print()\n",
    "print(\"K fold accuracy standard deviation:\",accuracies.std())"
   ]
  },
  {
   "cell_type": "code",
   "execution_count": 1267,
   "metadata": {},
   "outputs": [
    {
     "name": "stdout",
     "output_type": "stream",
     "text": [
      "[[38  0  7]\n",
      " [ 0 39  3]\n",
      " [ 8  5 29]]\n",
      "0.8217054263565892\n",
      "[[ 8  0  1]\n",
      " [ 0 10  2]\n",
      " [ 2  3  7]]\n",
      "0.7575757575757576\n"
     ]
    }
   ],
   "source": [
    "#Fit on 80% train data\n",
    "classifier.fit(X_train, y_train)\n",
    "\n",
    "#Predicting the train set results\n",
    "y_pred = classifier.predict(X_train)\n",
    "\n",
    "# Making the Confusion Matrix for train\n",
    "cmtrain = confusion_matrix(y_train, y_pred)\n",
    "print(cmtrain)\n",
    "print(accuracy_score(y_train, y_pred))\n",
    "\n",
    "#Predicting the val set results\n",
    "y_pred = classifier.predict(X_val)\n",
    "\n",
    "# Making the Confusion Matrix for val\n",
    "cmval = confusion_matrix(y_val, y_pred)\n",
    "print(cmval)\n",
    "print(accuracy_score(y_val, y_pred))"
   ]
  },
  {
   "cell_type": "code",
   "execution_count": 1272,
   "metadata": {},
   "outputs": [
    {
     "data": {
      "text/plain": [
       "array(['deficient', 'deficient', 'deficient', 'deficient', 'deficient',\n",
       "       'deficient', 'deficient', 'deficient', 'deficient', 'deficient',\n",
       "       'deficient', 'deficient', 'deficient', 'deficient', 'deficient',\n",
       "       'deficient', 'deficient', 'deficient', 'deficient', 'deficient',\n",
       "       'deficient', 'deficient'], dtype=object)"
      ]
     },
     "execution_count": 1272,
     "metadata": {},
     "output_type": "execute_result"
    }
   ],
   "source": [
    "# Predicting the Test set results\n",
    "predictions = classifier.predict(Test)\n",
    "predictions"
   ]
  },
  {
   "cell_type": "markdown",
   "metadata": {},
   "source": [
    "## 4) SVM Kernel"
   ]
  },
  {
   "cell_type": "code",
   "execution_count": 1281,
   "metadata": {},
   "outputs": [
    {
     "data": {
      "text/plain": [
       "SVC(C=1.0, cache_size=200, class_weight=None, coef0=0.0,\n",
       "  decision_function_shape='ovr', degree=3, gamma='auto', kernel='rbf',\n",
       "  max_iter=-1, probability=False, random_state=0, shrinking=True,\n",
       "  tol=0.001, verbose=False)"
      ]
     },
     "execution_count": 1281,
     "metadata": {},
     "output_type": "execute_result"
    }
   ],
   "source": [
    "from sklearn.svm import SVC\n",
    "\n",
    "#We can also pecifiy the C parameter \n",
    "classifier=SVC(kernel='rbf',random_state=0)\n",
    "classifier"
   ]
  },
  {
   "cell_type": "code",
   "execution_count": 1282,
   "metadata": {},
   "outputs": [],
   "source": [
    "#classifier=SVC(C=1000,gamma=0.001,kernel='rbf',random_state=0)\n",
    "\n",
    "#Kernel PCA\n",
    "classifier=SVC(C=10,gamma=0.5,kernel='rbf',random_state=0)\n",
    "#classifier"
   ]
  },
  {
   "cell_type": "code",
   "execution_count": 1283,
   "metadata": {},
   "outputs": [
    {
     "name": "stdout",
     "output_type": "stream",
     "text": [
      "[[54  0  0]\n",
      " [ 0 54  0]\n",
      " [ 0  0 54]]\n",
      "1.0\n"
     ]
    }
   ],
   "source": [
    "#Fit on full train data\n",
    "classifier.fit(X, y)\n",
    "\n",
    "#Predicting the train set results\n",
    "y_pred = classifier.predict(X)\n",
    "\n",
    "#Making the Confusion Matrix for train\n",
    "cmtrainfull = confusion_matrix(y, y_pred)\n",
    "print(cmtrainfull)\n",
    "print(accuracy_score(y, y_pred))"
   ]
  },
  {
   "cell_type": "code",
   "execution_count": 1276,
   "metadata": {},
   "outputs": [
    {
     "name": "stdout",
     "output_type": "stream",
     "text": [
      "K fold accuracy vector: [0.72222222 0.83333333 0.88888889 0.77777778 1.         0.8\n",
      " 0.93333333 1.         0.86666667 0.86666667]\n",
      "\n",
      "K fold accuracy mean: 0.868888888888889\n",
      "\n",
      "K fold accuracy standard deviation: 0.08646700648152765\n"
     ]
    }
   ],
   "source": [
    "#K fold cross valdation\n",
    "\n",
    "from sklearn.model_selection import cross_val_score\n",
    "accuracies=cross_val_score(estimator=classifier,X=X,y=y,cv=10)\n",
    "\n",
    "print(\"K fold accuracy vector:\", accuracies)\n",
    "print()\n",
    "print(\"K fold accuracy mean:\",accuracies.mean())\n",
    "print()\n",
    "print(\"K fold accuracy standard deviation:\",accuracies.std())"
   ]
  },
  {
   "cell_type": "markdown",
   "metadata": {},
   "source": [
    "## Grid search / parameter tuning "
   ]
  },
  {
   "cell_type": "code",
   "execution_count": 1277,
   "metadata": {},
   "outputs": [
    {
     "name": "stdout",
     "output_type": "stream",
     "text": [
      "Best accuracy:  0.8641975308641975\n",
      "Best parameters:  {'kernel': 'rbf', 'C': 10, 'gamma': 0.5}\n"
     ]
    }
   ],
   "source": [
    "from sklearn.model_selection import GridSearchCV\n",
    "parameters=[{'C':[1,10,100,1000],'kernel':['linear']},{'C':[1,10,100,1000],'kernel':['rbf'],'gamma':[0.5,0.1,0.01,0.001,0.0001]}]\n",
    "grid_search=GridSearchCV(estimator=classifier,param_grid=parameters,scoring='accuracy',cv=10)\n",
    "\n",
    "grid_search\n",
    "\n",
    "grid_search=grid_search.fit(X,y)\n",
    "best_accuracy=grid_search.best_score_\n",
    "best_parameters=grid_search.best_params_\n",
    "print(\"Best accuracy: \",best_accuracy)\n",
    "print(\"Best parameters: \",best_parameters)"
   ]
  },
  {
   "cell_type": "code",
   "execution_count": 1278,
   "metadata": {},
   "outputs": [
    {
     "name": "stdout",
     "output_type": "stream",
     "text": [
      "[[45  0  0]\n",
      " [ 0 42  0]\n",
      " [ 0  0 42]]\n",
      "1.0\n",
      "[[ 9  0  0]\n",
      " [ 0 11  1]\n",
      " [ 4  1  7]]\n",
      "0.8181818181818182\n"
     ]
    }
   ],
   "source": [
    "#Fit on 80% train data\n",
    "classifier.fit(X_train, y_train)\n",
    "\n",
    "#Predicting the train set results\n",
    "y_pred = classifier.predict(X_train)\n",
    "\n",
    "# Making the Confusion Matrix for train\n",
    "cmtrain = confusion_matrix(y_train, y_pred)\n",
    "print(cmtrain)\n",
    "print(accuracy_score(y_train, y_pred))\n",
    "\n",
    "#Predicting the val set results\n",
    "y_pred = classifier.predict(X_val)\n",
    "\n",
    "# Making the Confusion Matrix for val\n",
    "cmval = confusion_matrix(y_val, y_pred)\n",
    "print(cmval)\n",
    "print(accuracy_score(y_val, y_pred))"
   ]
  },
  {
   "cell_type": "code",
   "execution_count": 1284,
   "metadata": {},
   "outputs": [
    {
     "data": {
      "text/plain": [
       "array(['satisfactory', 'satisfactory', 'satisfactory', 'satisfactory',\n",
       "       'satisfactory', 'satisfactory', 'satisfactory', 'satisfactory',\n",
       "       'satisfactory', 'satisfactory', 'satisfactory', 'satisfactory',\n",
       "       'satisfactory', 'satisfactory', 'satisfactory', 'satisfactory',\n",
       "       'satisfactory', 'satisfactory', 'satisfactory', 'satisfactory',\n",
       "       'satisfactory', 'satisfactory'], dtype=object)"
      ]
     },
     "execution_count": 1284,
     "metadata": {},
     "output_type": "execute_result"
    }
   ],
   "source": [
    "# Predicting the Test set results\n",
    "predictions = classifier.predict(Test)\n",
    "predictions"
   ]
  },
  {
   "cell_type": "code",
   "execution_count": 1280,
   "metadata": {},
   "outputs": [],
   "source": [
    "#Export predictions to excel\n",
    "\n",
    "predictions=pd.DataFrame(predictions)\n",
    "BankID=  TstFnllBanklvldata_Tgt[['BankID']]\n",
    "frames = [BankID,predictions]\n",
    "TestPredictions = pd.concat(frames,axis=1)\n",
    "TestPredictions.to_csv('TestPredictions_SVMKernel_rbf1000_001.csv')"
   ]
  },
  {
   "cell_type": "markdown",
   "metadata": {},
   "source": [
    "## 5) KNN Model"
   ]
  },
  {
   "cell_type": "code",
   "execution_count": 1290,
   "metadata": {},
   "outputs": [
    {
     "data": {
      "text/plain": [
       "KNeighborsClassifier(algorithm='auto', leaf_size=30, metric='minkowski',\n",
       "           metric_params=None, n_jobs=1, n_neighbors=5, p=2,\n",
       "           weights='uniform')"
      ]
     },
     "execution_count": 1290,
     "metadata": {},
     "output_type": "execute_result"
    }
   ],
   "source": [
    "from sklearn.neighbors import KNeighborsClassifier\n",
    "\n",
    "#We can also pecifiy the C parameter \n",
    "classifier=KNeighborsClassifier(n_neighbors=5,metric='minkowski',p=2) #Euclidean distance\n",
    "classifier"
   ]
  },
  {
   "cell_type": "code",
   "execution_count": 1291,
   "metadata": {},
   "outputs": [
    {
     "name": "stdout",
     "output_type": "stream",
     "text": [
      "[[54  0  0]\n",
      " [ 1 53  0]\n",
      " [11  7 36]]\n",
      "0.8827160493827161\n"
     ]
    }
   ],
   "source": [
    "#Fit on full train data\n",
    "classifier.fit(X, y)\n",
    "\n",
    "#Predicting the train set results\n",
    "y_pred = classifier.predict(X)\n",
    "\n",
    "#Making the Confusion Matrix for train\n",
    "cmtrainfull = confusion_matrix(y, y_pred)\n",
    "print(cmtrainfull)\n",
    "print(accuracy_score(y, y_pred))"
   ]
  },
  {
   "cell_type": "code",
   "execution_count": 1292,
   "metadata": {},
   "outputs": [
    {
     "name": "stdout",
     "output_type": "stream",
     "text": [
      "K fold accuracy vector: [0.66666667 0.77777778 0.5        0.72222222 0.86666667 0.66666667\n",
      " 0.8        1.         0.66666667 0.8       ]\n",
      "\n",
      "K fold accuracy mean: 0.7466666666666667\n",
      "\n",
      "K fold accuracy standard deviation: 0.12879306782970756\n"
     ]
    }
   ],
   "source": [
    "#K fold cross valdation\n",
    "\n",
    "from sklearn.model_selection import cross_val_score\n",
    "accuracies=cross_val_score(estimator=classifier,X=X,y=y,cv=10)\n",
    "\n",
    "print(\"K fold accuracy vector:\", accuracies)\n",
    "print()\n",
    "print(\"K fold accuracy mean:\",accuracies.mean())\n",
    "print()\n",
    "print(\"K fold accuracy standard deviation:\",accuracies.std())"
   ]
  },
  {
   "cell_type": "code",
   "execution_count": 1288,
   "metadata": {},
   "outputs": [
    {
     "name": "stdout",
     "output_type": "stream",
     "text": [
      "[[43  1  1]\n",
      " [ 1 41  0]\n",
      " [10  6 26]]\n",
      "0.8527131782945736\n",
      "[[ 8  1  0]\n",
      " [ 0 12  0]\n",
      " [ 7  3  2]]\n",
      "0.6666666666666666\n"
     ]
    }
   ],
   "source": [
    "#Fit on 80% train data\n",
    "classifier.fit(X_train, y_train)\n",
    "\n",
    "#Predicting the train set results\n",
    "y_pred = classifier.predict(X_train)\n",
    "\n",
    "# Making the Confusion Matrix for train\n",
    "cmtrain = confusion_matrix(y_train, y_pred)\n",
    "print(cmtrain)\n",
    "print(accuracy_score(y_train, y_pred))\n",
    "\n",
    "#Predicting the val set results\n",
    "y_pred = classifier.predict(X_val)\n",
    "\n",
    "# Making the Confusion Matrix for val\n",
    "cmval = confusion_matrix(y_val, y_pred)\n",
    "print(cmval)\n",
    "print(accuracy_score(y_val, y_pred))"
   ]
  },
  {
   "cell_type": "code",
   "execution_count": 1293,
   "metadata": {},
   "outputs": [
    {
     "data": {
      "text/plain": [
       "array(['deficient', 'deficient', 'deficient', 'satisfactory', 'deficient',\n",
       "       'deficient', 'deficient', 'deficient', 'deficient', 'deficient',\n",
       "       'deficient', 'deficient', 'deficient', 'deficient', 'deficient',\n",
       "       'deficient', 'deficient', 'deficient', 'deficient', 'deficient',\n",
       "       'deficient', 'deficient'], dtype=object)"
      ]
     },
     "execution_count": 1293,
     "metadata": {},
     "output_type": "execute_result"
    }
   ],
   "source": [
    "# Predicting the Test set results\n",
    "predictions = classifier.predict(Test)\n",
    "predictions"
   ]
  },
  {
   "cell_type": "markdown",
   "metadata": {},
   "source": [
    "## 6) Decision Tree Classification"
   ]
  },
  {
   "cell_type": "code",
   "execution_count": 1294,
   "metadata": {},
   "outputs": [
    {
     "data": {
      "text/plain": [
       "DecisionTreeClassifier(class_weight=None, criterion='entropy', max_depth=None,\n",
       "            max_features=None, max_leaf_nodes=None,\n",
       "            min_impurity_decrease=0.0, min_impurity_split=None,\n",
       "            min_samples_leaf=1, min_samples_split=2,\n",
       "            min_weight_fraction_leaf=0.0, presort=False, random_state=0,\n",
       "            splitter='best')"
      ]
     },
     "execution_count": 1294,
     "metadata": {},
     "output_type": "execute_result"
    }
   ],
   "source": [
    "from sklearn.tree import DecisionTreeClassifier\n",
    "\n",
    "#We can also pecifiy the C parameter \n",
    "classifier=DecisionTreeClassifier(criterion='entropy',random_state=0) #Euclidean distance\n",
    "classifier"
   ]
  },
  {
   "cell_type": "code",
   "execution_count": 1295,
   "metadata": {},
   "outputs": [
    {
     "name": "stdout",
     "output_type": "stream",
     "text": [
      "[[54  0  0]\n",
      " [ 0 54  0]\n",
      " [ 0  0 54]]\n",
      "1.0\n"
     ]
    }
   ],
   "source": [
    "#Fit on full train data\n",
    "classifier.fit(X, y)\n",
    "\n",
    "#Predicting the train set results\n",
    "y_pred = classifier.predict(X)\n",
    "\n",
    "#Making the Confusion Matrix for train\n",
    "cmtrainfull = confusion_matrix(y, y_pred)\n",
    "print(cmtrainfull)\n",
    "print(accuracy_score(y, y_pred))"
   ]
  },
  {
   "cell_type": "code",
   "execution_count": 1296,
   "metadata": {},
   "outputs": [
    {
     "name": "stdout",
     "output_type": "stream",
     "text": [
      "K fold accuracy vector: [0.83333333 0.88888889 0.77777778 0.72222222 0.93333333 0.86666667\n",
      " 0.86666667 0.86666667 0.53333333 0.66666667]\n",
      "\n",
      "K fold accuracy mean: 0.7955555555555556\n",
      "\n",
      "K fold accuracy standard deviation: 0.11634346766851934\n"
     ]
    }
   ],
   "source": [
    "#K fold cross valdation\n",
    "\n",
    "from sklearn.model_selection import cross_val_score\n",
    "accuracies=cross_val_score(estimator=classifier,X=X,y=y,cv=10)\n",
    "\n",
    "print(\"K fold accuracy vector:\", accuracies)\n",
    "print()\n",
    "print(\"K fold accuracy mean:\",accuracies.mean())\n",
    "print()\n",
    "print(\"K fold accuracy standard deviation:\",accuracies.std())"
   ]
  },
  {
   "cell_type": "code",
   "execution_count": 1297,
   "metadata": {},
   "outputs": [
    {
     "name": "stdout",
     "output_type": "stream",
     "text": [
      "[[45  0  0]\n",
      " [ 0 42  0]\n",
      " [ 0  0 42]]\n",
      "1.0\n",
      "[[ 8  0  1]\n",
      " [ 0 11  1]\n",
      " [ 3  0  9]]\n",
      "0.8484848484848485\n"
     ]
    }
   ],
   "source": [
    "#Fit on 80% train data\n",
    "classifier.fit(X_train, y_train)\n",
    "\n",
    "#Predicting the train set results\n",
    "y_pred = classifier.predict(X_train)\n",
    "\n",
    "# Making the Confusion Matrix for train\n",
    "cmtrain = confusion_matrix(y_train, y_pred)\n",
    "print(cmtrain)\n",
    "print(accuracy_score(y_train, y_pred))\n",
    "\n",
    "#Predicting the val set results\n",
    "y_pred = classifier.predict(X_val)\n",
    "\n",
    "# Making the Confusion Matrix for val\n",
    "cmval = confusion_matrix(y_val, y_pred)\n",
    "print(cmval)\n",
    "print(accuracy_score(y_val, y_pred))"
   ]
  },
  {
   "cell_type": "code",
   "execution_count": 1298,
   "metadata": {},
   "outputs": [
    {
     "data": {
      "text/plain": [
       "array(['deficient', 'deficient', 'deficient', 'deficient', 'deficient',\n",
       "       'deficient', 'deficient', 'deficient', 'deficient', 'deficient',\n",
       "       'deficient', 'deficient', 'deficient', 'deficient', 'deficient',\n",
       "       'deficient', 'deficient', 'deficient', 'deficient', 'deficient',\n",
       "       'deficient', 'deficient'], dtype=object)"
      ]
     },
     "execution_count": 1298,
     "metadata": {},
     "output_type": "execute_result"
    }
   ],
   "source": [
    "# Predicting the Test set results\n",
    "predictions = classifier.predict(Test)\n",
    "predictions"
   ]
  },
  {
   "cell_type": "markdown",
   "metadata": {},
   "source": [
    "## 7)Random Forest Classification"
   ]
  },
  {
   "cell_type": "code",
   "execution_count": 1299,
   "metadata": {},
   "outputs": [
    {
     "data": {
      "text/plain": [
       "RandomForestClassifier(bootstrap=True, class_weight=None, criterion='entropy',\n",
       "            max_depth=None, max_features='auto', max_leaf_nodes=None,\n",
       "            min_impurity_decrease=0.0, min_impurity_split=None,\n",
       "            min_samples_leaf=1, min_samples_split=2,\n",
       "            min_weight_fraction_leaf=0.0, n_estimators=5, n_jobs=1,\n",
       "            oob_score=False, random_state=0, verbose=0, warm_start=False)"
      ]
     },
     "execution_count": 1299,
     "metadata": {},
     "output_type": "execute_result"
    }
   ],
   "source": [
    "from sklearn.ensemble import RandomForestClassifier\n",
    "\n",
    "#We can also pecifiy the C parameter \n",
    "classifier=RandomForestClassifier(n_estimators=5,criterion='entropy',random_state=0) #Euclidean distance\n",
    "classifier"
   ]
  },
  {
   "cell_type": "code",
   "execution_count": 1300,
   "metadata": {},
   "outputs": [
    {
     "name": "stdout",
     "output_type": "stream",
     "text": [
      "[[54  0  0]\n",
      " [ 0 54  0]\n",
      " [ 1  2 51]]\n",
      "0.9814814814814815\n"
     ]
    }
   ],
   "source": [
    "#Fit on full train data\n",
    "classifier.fit(X, y)\n",
    "\n",
    "#Predicting the train set results\n",
    "y_pred = classifier.predict(X)\n",
    "\n",
    "#Making the Confusion Matrix for train\n",
    "cmtrainfull = confusion_matrix(y, y_pred)\n",
    "print(cmtrainfull)\n",
    "print(accuracy_score(y, y_pred))"
   ]
  },
  {
   "cell_type": "code",
   "execution_count": 1301,
   "metadata": {},
   "outputs": [
    {
     "name": "stdout",
     "output_type": "stream",
     "text": [
      "K fold accuracy vector: [0.66666667 0.77777778 0.72222222 0.88888889 0.8        0.86666667\n",
      " 0.93333333 0.86666667 0.66666667 0.8       ]\n",
      "\n",
      "K fold accuracy mean: 0.7988888888888889\n",
      "\n",
      "K fold accuracy standard deviation: 0.08755245341374183\n"
     ]
    }
   ],
   "source": [
    "#K fold cross valdation\n",
    "\n",
    "from sklearn.model_selection import cross_val_score\n",
    "accuracies=cross_val_score(estimator=classifier,X=X,y=y,cv=10)\n",
    "\n",
    "print(\"K fold accuracy vector:\", accuracies)\n",
    "print()\n",
    "print(\"K fold accuracy mean:\",accuracies.mean())\n",
    "print()\n",
    "print(\"K fold accuracy standard deviation:\",accuracies.std())"
   ]
  },
  {
   "cell_type": "code",
   "execution_count": 40,
   "metadata": {},
   "outputs": [
    {
     "name": "stdout",
     "output_type": "stream",
     "text": [
      "[[45  0  0]\n",
      " [ 0 42  0]\n",
      " [ 0  0 42]]\n",
      "1.0\n",
      "[[ 8  0  1]\n",
      " [ 0 11  1]\n",
      " [ 2  1  9]]\n",
      "0.8484848484848485\n"
     ]
    }
   ],
   "source": [
    "#Fit on 80% train data\n",
    "classifier.fit(X_train, y_train)\n",
    "\n",
    "#Predicting the train set results\n",
    "y_pred = classifier.predict(X_train)\n",
    "\n",
    "# Making the Confusion Matrix for train\n",
    "cmtrain = confusion_matrix(y_train, y_pred)\n",
    "print(cmtrain)\n",
    "print(accuracy_score(y_train, y_pred))\n",
    "\n",
    "#Predicting the val set results\n",
    "y_pred = classifier.predict(X_val)\n",
    "\n",
    "# Making the Confusion Matrix for val\n",
    "cmval = confusion_matrix(y_val, y_pred)\n",
    "print(cmval)\n",
    "print(accuracy_score(y_val, y_pred))"
   ]
  },
  {
   "cell_type": "code",
   "execution_count": 41,
   "metadata": {},
   "outputs": [
    {
     "data": {
      "text/plain": [
       "array(['deficient', 'deficient', 'satisfactory', 'deficient', 'deficient',\n",
       "       'satisfactory', 'satisfactory', 'satisfactory', 'outstanding',\n",
       "       'satisfactory', 'satisfactory', 'deficient', 'satisfactory',\n",
       "       'satisfactory', 'satisfactory', 'deficient', 'satisfactory',\n",
       "       'satisfactory', 'deficient', 'satisfactory', 'satisfactory',\n",
       "       'satisfactory'], dtype=object)"
      ]
     },
     "execution_count": 41,
     "metadata": {},
     "output_type": "execute_result"
    }
   ],
   "source": [
    "# Predicting the Test set results\n",
    "predictions = classifier.predict(Test)\n",
    "predictions"
   ]
  },
  {
   "cell_type": "markdown",
   "metadata": {},
   "source": [
    "## 8) XG Boost Model"
   ]
  },
  {
   "cell_type": "code",
   "execution_count": 42,
   "metadata": {},
   "outputs": [
    {
     "name": "stdout",
     "output_type": "stream",
     "text": [
      "[[45  0  0]\n",
      " [ 0 42  0]\n",
      " [ 0  0 42]]\n",
      "1.0\n",
      "[[ 8  0  1]\n",
      " [ 0 11  1]\n",
      " [ 2  1  9]]\n",
      "0.8484848484848485\n",
      "K fold accuracy vector: [0.8        0.6        0.84615385 0.69230769 0.69230769 0.83333333\n",
      " 0.75       0.91666667 0.91666667 1.        ]\n",
      "\n",
      "K fold accuracy mean: 0.8047435897435896\n",
      "\n",
      "K fold accuracy standard deviation: 0.11659063456545757\n"
     ]
    },
    {
     "data": {
      "text/plain": [
       "array(['deficient', 'deficient', 'satisfactory', 'deficient', 'deficient',\n",
       "       'satisfactory', 'satisfactory', 'satisfactory', 'outstanding',\n",
       "       'satisfactory', 'satisfactory', 'deficient', 'satisfactory',\n",
       "       'satisfactory', 'satisfactory', 'deficient', 'satisfactory',\n",
       "       'satisfactory', 'deficient', 'satisfactory', 'satisfactory',\n",
       "       'satisfactory'], dtype=object)"
      ]
     },
     "execution_count": 42,
     "metadata": {},
     "output_type": "execute_result"
    }
   ],
   "source": [
    "X_train, X_val, y_train, y_val\n",
    "\n",
    "# Fitting XGBoost to the Training set\n",
    "from xgboost import XGBClassifier\n",
    "classifier = XGBClassifier()\n",
    "classifier.fit(X_train, y_train)\n",
    "\n",
    "#Predicting the train set results\n",
    "ytrain_pred = classifier.predict(X_train)\n",
    "yval_pred = classifier.predict(X_val)\n",
    "\n",
    "#Making the Confusion Matrix for train\n",
    "cmtrain = confusion_matrix(y_train, ytrain_pred)\n",
    "cmval = confusion_matrix(y_val, yval_pred)\n",
    "\n",
    "print(cmtrain)\n",
    "print(accuracy_score(y_train, ytrain_pred))\n",
    "\n",
    "print(cmval)\n",
    "print(accuracy_score(y_val, yval_pred))\n",
    "\n",
    "\n",
    "#K fold cross valdation\n",
    "\n",
    "from sklearn.model_selection import cross_val_score\n",
    "accuracies=cross_val_score(estimator=classifier,X=X_train,y=y_train,cv=10)\n",
    "\n",
    "print(\"K fold accuracy vector:\", accuracies)\n",
    "print()\n",
    "print(\"K fold accuracy mean:\",accuracies.mean())\n",
    "print()\n",
    "print(\"K fold accuracy standard deviation:\",accuracies.std())\n",
    "\n",
    "# Predicting the Test set results\n",
    "predictions = classifier.predict(Test)\n",
    "predictions"
   ]
  },
  {
   "cell_type": "code",
   "execution_count": 1403,
   "metadata": {},
   "outputs": [
    {
     "data": {
      "text/plain": [
       "array(['deficient', 'deficient', 'satisfactory', 'satisfactory',\n",
       "       'deficient', 'satisfactory', 'satisfactory', 'outstanding',\n",
       "       'outstanding', 'satisfactory', 'satisfactory', 'deficient',\n",
       "       'satisfactory', 'satisfactory', 'satisfactory', 'deficient',\n",
       "       'satisfactory', 'satisfactory', 'deficient', 'outstanding',\n",
       "       'satisfactory', 'satisfactory'], dtype=object)"
      ]
     },
     "execution_count": 1403,
     "metadata": {},
     "output_type": "execute_result"
    }
   ],
   "source": [
    "predictions=pd.DataFrame(predictions)\n",
    "BankID=  TstFnllBanklvldata_Tgt[['BankID']]\n",
    "frames = [BankID,predictions]\n",
    "TestPredictions = pd.concat(frames,axis=1)\n",
    "TestPredictions.to_csv('TestPredictions_XGBoostAllSmote.csv')"
   ]
  },
  {
   "cell_type": "code",
   "execution_count": 44,
   "metadata": {},
   "outputs": [],
   "source": [
    "sorted_idx = np.argsort(classifier.feature_importances_)[::-1]"
   ]
  },
  {
   "cell_type": "code",
   "execution_count": 45,
   "metadata": {},
   "outputs": [
    {
     "data": {
      "text/plain": [
       "array([9, 0, 7, 2, 1, 8, 4, 5, 3, 6])"
      ]
     },
     "execution_count": 45,
     "metadata": {},
     "output_type": "execute_result"
    }
   ],
   "source": [
    "sorted_idx"
   ]
  },
  {
   "cell_type": "code",
   "execution_count": null,
   "metadata": {},
   "outputs": [],
   "source": []
  }
 ],
 "metadata": {
  "kernelspec": {
   "display_name": "Python 2",
   "language": "python",
   "name": "python2"
  },
  "language_info": {
   "codemirror_mode": {
    "name": "ipython",
    "version": 2
   },
   "file_extension": ".py",
   "mimetype": "text/x-python",
   "name": "python",
   "nbconvert_exporter": "python",
   "pygments_lexer": "ipython2",
   "version": "2.7.15"
  }
 },
 "nbformat": 4,
 "nbformat_minor": 2
}
